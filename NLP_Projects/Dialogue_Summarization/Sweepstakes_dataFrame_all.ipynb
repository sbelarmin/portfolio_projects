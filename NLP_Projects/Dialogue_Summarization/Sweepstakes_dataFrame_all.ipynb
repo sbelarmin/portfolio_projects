{
 "cells": [
  {
   "cell_type": "code",
   "execution_count": 1,
   "metadata": {},
   "outputs": [
    {
     "name": "stdout",
     "output_type": "stream",
     "text": [
      "Requirement already satisfied: selenium in ./slumber/lib/python3.11/site-packages (4.19.0)\n",
      "Requirement already satisfied: urllib3<3,>=1.26 in ./slumber/lib/python3.11/site-packages (from urllib3[socks]<3,>=1.26->selenium) (2.2.1)\n",
      "Requirement already satisfied: trio~=0.17 in ./slumber/lib/python3.11/site-packages (from selenium) (0.25.0)\n",
      "Requirement already satisfied: trio-websocket~=0.9 in ./slumber/lib/python3.11/site-packages (from selenium) (0.11.1)\n",
      "Requirement already satisfied: certifi>=2021.10.8 in ./slumber/lib/python3.11/site-packages (from selenium) (2024.2.2)\n",
      "Requirement already satisfied: typing_extensions>=4.9.0 in ./slumber/lib/python3.11/site-packages (from selenium) (4.11.0)\n",
      "Requirement already satisfied: attrs>=23.2.0 in ./slumber/lib/python3.11/site-packages (from trio~=0.17->selenium) (23.2.0)\n",
      "Requirement already satisfied: sortedcontainers in ./slumber/lib/python3.11/site-packages (from trio~=0.17->selenium) (2.4.0)\n",
      "Requirement already satisfied: idna in ./slumber/lib/python3.11/site-packages (from trio~=0.17->selenium) (3.7)\n",
      "Requirement already satisfied: outcome in ./slumber/lib/python3.11/site-packages (from trio~=0.17->selenium) (1.3.0.post0)\n",
      "Requirement already satisfied: sniffio>=1.3.0 in ./slumber/lib/python3.11/site-packages (from trio~=0.17->selenium) (1.3.1)\n",
      "Requirement already satisfied: wsproto>=0.14 in ./slumber/lib/python3.11/site-packages (from trio-websocket~=0.9->selenium) (1.2.0)\n",
      "Requirement already satisfied: pysocks!=1.5.7,<2.0,>=1.5.6 in ./slumber/lib/python3.11/site-packages (from urllib3[socks]<3,>=1.26->selenium) (1.7.1)\n",
      "Requirement already satisfied: h11<1,>=0.9.0 in ./slumber/lib/python3.11/site-packages (from wsproto>=0.14->trio-websocket~=0.9->selenium) (0.14.0)\n",
      "Requirement already satisfied: webdriver_manager in ./slumber/lib/python3.11/site-packages (4.0.1)\n",
      "Requirement already satisfied: requests in ./slumber/lib/python3.11/site-packages (from webdriver_manager) (2.31.0)\n",
      "Requirement already satisfied: python-dotenv in ./slumber/lib/python3.11/site-packages (from webdriver_manager) (1.0.1)\n",
      "Requirement already satisfied: packaging in ./slumber/lib/python3.11/site-packages (from webdriver_manager) (24.0)\n",
      "Requirement already satisfied: charset-normalizer<4,>=2 in ./slumber/lib/python3.11/site-packages (from requests->webdriver_manager) (3.3.2)\n",
      "Requirement already satisfied: idna<4,>=2.5 in ./slumber/lib/python3.11/site-packages (from requests->webdriver_manager) (3.7)\n",
      "Requirement already satisfied: urllib3<3,>=1.21.1 in ./slumber/lib/python3.11/site-packages (from requests->webdriver_manager) (2.2.1)\n",
      "Requirement already satisfied: certifi>=2017.4.17 in ./slumber/lib/python3.11/site-packages (from requests->webdriver_manager) (2024.2.2)\n",
      "Requirement already satisfied: pandas in ./slumber/lib/python3.11/site-packages (2.2.2)\n",
      "Requirement already satisfied: numpy>=1.23.2 in ./slumber/lib/python3.11/site-packages (from pandas) (1.26.4)\n",
      "Requirement already satisfied: python-dateutil>=2.8.2 in ./slumber/lib/python3.11/site-packages (from pandas) (2.9.0.post0)\n",
      "Requirement already satisfied: pytz>=2020.1 in ./slumber/lib/python3.11/site-packages (from pandas) (2024.1)\n",
      "Requirement already satisfied: tzdata>=2022.7 in ./slumber/lib/python3.11/site-packages (from pandas) (2024.1)\n",
      "Requirement already satisfied: six>=1.5 in ./slumber/lib/python3.11/site-packages (from python-dateutil>=2.8.2->pandas) (1.16.0)\n"
     ]
    }
   ],
   "source": [
    "!pip install selenium\n",
    "!pip install webdriver_manager\n",
    "!pip install pandas"
   ]
  },
  {
   "cell_type": "code",
   "execution_count": 1,
   "metadata": {},
   "outputs": [],
   "source": [
    "from selenium import webdriver\n",
    "from selenium.webdriver.chrome.service import Service\n",
    "from webdriver_manager.chrome import ChromeDriverManager\n",
    "from selenium.webdriver.chrome.options import Options\n",
    "from selenium.webdriver.common.by import By\n",
    "import pandas as pd\n",
    "import json\n",
    "import numpy as np\n",
    "import random"
   ]
  },
  {
   "cell_type": "code",
   "execution_count": 2,
   "metadata": {},
   "outputs": [],
   "source": [
    "# reading in json file\n",
    "\n",
    "df = pd.read_json(\"/Users/scottbelarmino/Documents/Documents/sweepstakes/contestants.json\", \n",
    "                  dtype={'phoneNumber': str, 'zip': str})\n"
   ]
  },
  {
   "cell_type": "code",
   "execution_count": 21,
   "metadata": {},
   "outputs": [],
   "source": [
    "# campaign urls\n",
    "\n",
    "insta = 'https://www.lmcu.org/about/perks/50k-home-makeover/?utm_source=florida_weekly&utm_medium=paid_social&utm_campaign=2024_50k_hms&utm_id=120208702899280165&utm_content=120208702899250165&utm_term=120208702899270165'\n",
    "\n",
    "direct = 'https://www.lmcu.org/about/perks/50k-home-makeover/'\n",
    "\n",
    "# list of urls\n",
    "urls = [direct,insta]\n"
   ]
  },
  {
   "cell_type": "code",
   "execution_count": 38,
   "metadata": {},
   "outputs": [],
   "source": [
    "# loop for sweepstakes submission\n",
    "\n",
    "for x in range(3):\n",
    "\n",
    "    options = webdriver.ChromeOptions()\n",
    "    options.add_experimental_option('detach', True)\n",
    "    #chrome_driver = webdriver.Chrome()\n",
    "\n",
    "    browser = webdriver.Chrome(options=options,service=Service(ChromeDriverManager().install()))\n",
    "    # url = \"https://www.lmcu.org/about/perks/50k-home-makeover/\" # exclusively direct (depricated)\n",
    "    url = random.choice(urls) # randomly selecting campaign urls for every iteration/applicant\n",
    "    browser.get(url)\n",
    "    browser.maximize_window()\n",
    "\n",
    "    email = browser.find_element(By.ID, \"EmailAddress\")\n",
    "    email.send_keys(df['emailAddress'][x])\n",
    "    phone = browser.find_element(By.ID,'PhoneNumber')\n",
    "    phone.send_keys(df['phoneNumber'][x])\n",
    "    firstname = browser.find_element(By.ID, 'FirstName')\n",
    "    firstname.send_keys(df['first'][x])\n",
    "    lastname = browser.find_element(By.ID, 'LastName')\n",
    "    lastname.send_keys(df['last'][x])\n",
    "    addressname = browser.find_element(By.ID, 'AddressOne')\n",
    "    addressname.send_keys(df['street'][x])\n",
    "    cityname = browser.find_element(By.ID, 'City')\n",
    "    cityname.send_keys(df['city'][x])\n",
    "    statename = browser.find_element(By.ID, 'State')\n",
    "    statename.send_keys(df['state'][x])\n",
    "    zipname = browser.find_element(By.ID, 'Zip')\n",
    "    zipname.send_keys(df['zip'][x])\n",
    "    answername = browser.find_element(By.ID, 'WhatWouldYouDoAnswer')\n",
    "    answername.send_keys(df['answer'][x])\n",
    "\n",
    "    submit_button = browser.find_element(By.XPATH, value=\"//input[@value='Submit']\")\n",
    "    submit_button.click()"
   ]
  }
 ],
 "metadata": {
  "kernelspec": {
   "display_name": "slumber",
   "language": "python",
   "name": "python3"
  },
  "language_info": {
   "codemirror_mode": {
    "name": "ipython",
    "version": 3
   },
   "file_extension": ".py",
   "mimetype": "text/x-python",
   "name": "python",
   "nbconvert_exporter": "python",
   "pygments_lexer": "ipython3",
   "version": "3.11.9"
  },
  "orig_nbformat": 4
 },
 "nbformat": 4,
 "nbformat_minor": 2
}
